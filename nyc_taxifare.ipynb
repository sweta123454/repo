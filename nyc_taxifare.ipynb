{
 "cells": [
  {
   "cell_type": "code",
   "execution_count": 4,
   "id": "2442fa6f-d7a1-4d0e-95a0-d7d5849c0541",
   "metadata": {},
   "outputs": [],
   "source": [
    "import pandas as pd"
   ]
  },
  {
   "cell_type": "code",
   "execution_count": 3,
   "id": "628d058d-29a2-4e17-a782-c6037d8665b0",
   "metadata": {},
   "outputs": [
    {
     "name": "stdout",
     "output_type": "stream",
     "text": [
      "Collecting pandas\n",
      "  Downloading pandas-2.2.3-cp310-cp310-win_amd64.whl.metadata (19 kB)\n",
      "Requirement already satisfied: numpy>=1.22.4 in c:\\users\\sweta\\anaconda3\\lib\\site-packages (from pandas) (2.0.2)\n",
      "Requirement already satisfied: python-dateutil>=2.8.2 in c:\\users\\sweta\\appdata\\roaming\\python\\python310\\site-packages (from pandas) (2.8.2)\n",
      "Requirement already satisfied: pytz>=2020.1 in c:\\users\\sweta\\anaconda3\\lib\\site-packages (from pandas) (2024.1)\n",
      "Collecting tzdata>=2022.7 (from pandas)\n",
      "  Downloading tzdata-2025.1-py2.py3-none-any.whl.metadata (1.4 kB)\n",
      "Requirement already satisfied: six>=1.5 in c:\\users\\sweta\\appdata\\roaming\\python\\python310\\site-packages (from python-dateutil>=2.8.2->pandas) (1.16.0)\n",
      "Downloading pandas-2.2.3-cp310-cp310-win_amd64.whl (11.6 MB)\n",
      "   ---------------------------------------- 0.0/11.6 MB ? eta -:--:--\n",
      "   --------- ------------------------------ 2.6/11.6 MB 16.7 MB/s eta 0:00:01\n",
      "   --------------------- ------------------ 6.3/11.6 MB 16.8 MB/s eta 0:00:01\n",
      "   ---------------------------- ----------- 8.4/11.6 MB 15.7 MB/s eta 0:00:01\n",
      "   ------------------------------ --------- 8.9/11.6 MB 11.3 MB/s eta 0:00:01\n",
      "   ------------------------------------- -- 10.7/11.6 MB 10.3 MB/s eta 0:00:01\n",
      "   -------------------------------------- - 11.3/11.6 MB 9.4 MB/s eta 0:00:01\n",
      "   ---------------------------------------- 11.6/11.6 MB 8.5 MB/s eta 0:00:00\n",
      "Downloading tzdata-2025.1-py2.py3-none-any.whl (346 kB)\n",
      "Installing collected packages: tzdata, pandas\n",
      "Successfully installed pandas-2.2.3 tzdata-2025.1\n",
      "Note: you may need to restart the kernel to use updated packages.\n"
     ]
    }
   ],
   "source": [
    "pip install pandas \n"
   ]
  },
  {
   "cell_type": "code",
   "execution_count": 5,
   "id": "f4b96e8f-0bbc-488a-b139-0b202d1b6d80",
   "metadata": {},
   "outputs": [],
   "source": [
    "df = pd.read_csv(r'C:\\Users\\sweta\\Downloads\\Dataset\\yellow_tripdata_2015-01.csv\\yellow_tripdata_2015-01.csv')"
   ]
  },
  {
   "cell_type": "code",
   "execution_count": 6,
   "id": "58d2080a-b6c5-4d99-8918-79b89956f16c",
   "metadata": {},
   "outputs": [
    {
     "name": "stdout",
     "output_type": "stream",
     "text": [
      "   VendorID tpep_pickup_datetime tpep_dropoff_datetime  passenger_count  \\\n",
      "0         2  2015-01-15 19:05:39   2015-01-15 19:23:42                1   \n",
      "1         1  2015-01-10 20:33:38   2015-01-10 20:53:28                1   \n",
      "2         1  2015-01-10 20:33:38   2015-01-10 20:43:41                1   \n",
      "3         1  2015-01-10 20:33:39   2015-01-10 20:35:31                1   \n",
      "4         1  2015-01-10 20:33:39   2015-01-10 20:52:58                1   \n",
      "\n",
      "   trip_distance  pickup_longitude  pickup_latitude  RateCodeID  \\\n",
      "0           1.59        -73.993896        40.750111           1   \n",
      "1           3.30        -74.001648        40.724243           1   \n",
      "2           1.80        -73.963341        40.802788           1   \n",
      "3           0.50        -74.009087        40.713818           1   \n",
      "4           3.00        -73.971176        40.762428           1   \n",
      "\n",
      "  store_and_fwd_flag  dropoff_longitude  dropoff_latitude  payment_type  \\\n",
      "0                  N         -73.974785         40.750618             1   \n",
      "1                  N         -73.994415         40.759109             1   \n",
      "2                  N         -73.951820         40.824413             2   \n",
      "3                  N         -74.004326         40.719986             2   \n",
      "4                  N         -74.004181         40.742653             2   \n",
      "\n",
      "   fare_amount  extra  mta_tax  tip_amount  tolls_amount  \\\n",
      "0         12.0    1.0      0.5        3.25           0.0   \n",
      "1         14.5    0.5      0.5        2.00           0.0   \n",
      "2          9.5    0.5      0.5        0.00           0.0   \n",
      "3          3.5    0.5      0.5        0.00           0.0   \n",
      "4         15.0    0.5      0.5        0.00           0.0   \n",
      "\n",
      "   improvement_surcharge  total_amount  \n",
      "0                    0.3         17.05  \n",
      "1                    0.3         17.80  \n",
      "2                    0.3         10.80  \n",
      "3                    0.3          4.80  \n",
      "4                    0.3         16.30  \n",
      "<class 'pandas.core.frame.DataFrame'>\n",
      "RangeIndex: 12748986 entries, 0 to 12748985\n",
      "Data columns (total 19 columns):\n",
      " #   Column                 Dtype  \n",
      "---  ------                 -----  \n",
      " 0   VendorID               int64  \n",
      " 1   tpep_pickup_datetime   object \n",
      " 2   tpep_dropoff_datetime  object \n",
      " 3   passenger_count        int64  \n",
      " 4   trip_distance          float64\n",
      " 5   pickup_longitude       float64\n",
      " 6   pickup_latitude        float64\n",
      " 7   RateCodeID             int64  \n",
      " 8   store_and_fwd_flag     object \n",
      " 9   dropoff_longitude      float64\n",
      " 10  dropoff_latitude       float64\n",
      " 11  payment_type           int64  \n",
      " 12  fare_amount            float64\n",
      " 13  extra                  float64\n",
      " 14  mta_tax                float64\n",
      " 15  tip_amount             float64\n",
      " 16  tolls_amount           float64\n",
      " 17  improvement_surcharge  float64\n",
      " 18  total_amount           float64\n",
      "dtypes: float64(12), int64(4), object(3)\n",
      "memory usage: 1.8+ GB\n",
      "None\n"
     ]
    }
   ],
   "source": [
    "print(df.head())\n",
    "print(df.info())"
   ]
  },
  {
   "cell_type": "code",
   "execution_count": 7,
   "id": "a84bb713-c54e-41b0-ba65-b23011c119fa",
   "metadata": {},
   "outputs": [],
   "source": [
    "df.dropna(inplace=True)"
   ]
  },
  {
   "cell_type": "code",
   "execution_count": 8,
   "id": "51f564ec-e149-4635-8738-f26cc2b405ec",
   "metadata": {},
   "outputs": [],
   "source": [
    "df['tpep_pickup_datetime'] = pd.to_datetime(df['tpep_pickup_datetime'])"
   ]
  },
  {
   "cell_type": "code",
   "execution_count": 9,
   "id": "67399e37-908f-46f5-9b2c-8dd28b2205a3",
   "metadata": {},
   "outputs": [
    {
     "name": "stdout",
     "output_type": "stream",
     "text": [
      "Average fare amount:  11.905658344669535\n",
      "Max fare amount:  4008.0\n"
     ]
    }
   ],
   "source": [
    "print(\"Average fare amount: \", df['fare_amount'].mean())\n",
    "print(\"Max fare amount: \", df['fare_amount'].max())\n"
   ]
  },
  {
   "cell_type": "code",
   "execution_count": 10,
   "id": "2027718b-08ae-401d-a8eb-b38058cbe607",
   "metadata": {},
   "outputs": [
    {
     "name": "stdout",
     "output_type": "stream",
     "text": [
      "    VendorID tpep_pickup_datetime tpep_dropoff_datetime  passenger_count  \\\n",
      "8          1  2015-01-10 20:33:39   2015-01-10 21:11:35                3   \n",
      "27         2  2015-01-15 19:05:42   2015-01-15 19:49:07                1   \n",
      "31         2  2015-01-15 19:05:43   2015-01-15 19:05:44                2   \n",
      "37         1  2015-01-10 19:12:21   2015-01-10 19:46:08                1   \n",
      "83         2  2015-01-15 14:00:43   2015-01-15 14:58:40                1   \n",
      "\n",
      "    trip_distance  pickup_longitude  pickup_latitude  RateCodeID  \\\n",
      "8           18.20        -73.783043        40.644356           2   \n",
      "27          18.06        -73.786575        40.644127           2   \n",
      "31           0.01          0.000000         0.000000           5   \n",
      "37          16.40        -73.977097        40.763172           2   \n",
      "83          15.20        -73.801262        40.667728           2   \n",
      "\n",
      "   store_and_fwd_flag  dropoff_longitude  dropoff_latitude  payment_type  \\\n",
      "8                   N         -73.987595         40.759357             2   \n",
      "27                  N         -73.985603         40.743530             1   \n",
      "31                  N           0.000000          0.000000             1   \n",
      "37                  N         -73.790710         40.644276             1   \n",
      "83                  N         -73.993355         40.756001             1   \n",
      "\n",
      "    fare_amount  extra  mta_tax  tip_amount  tolls_amount  \\\n",
      "8          52.0    0.0      0.5        0.00          5.33   \n",
      "27         52.0    0.0      0.5        6.00          5.33   \n",
      "31         60.0    0.0      0.0        0.00          0.00   \n",
      "37         52.0    0.0      0.5       10.00          0.00   \n",
      "83         52.0    0.0      0.5       14.33          5.33   \n",
      "\n",
      "    improvement_surcharge  total_amount  \n",
      "8                     0.3         58.13  \n",
      "27                    0.3         64.13  \n",
      "31                    0.3         60.30  \n",
      "37                    0.3         62.80  \n",
      "83                    0.3         72.46  \n"
     ]
    }
   ],
   "source": [
    "high_fares = df[df['fare_amount'] > 50]\n",
    "print(high_fares.head())"
   ]
  },
  {
   "cell_type": "code",
   "execution_count": 11,
   "id": "0a747bce-6f42-467b-996c-9dd81f22ad77",
   "metadata": {},
   "outputs": [],
   "source": [
    "df.to_csv('nyc_taxi_fare_cleaned.csv', index=False)"
   ]
  },
  {
   "cell_type": "code",
   "execution_count": 12,
   "id": "ee4081b0-564c-419c-a88d-3f7bbb38e344",
   "metadata": {},
   "outputs": [
    {
     "name": "stdout",
     "output_type": "stream",
     "text": [
      "Current Directory: C:\\Users\\sweta\\Shweta\\Shweta1\n"
     ]
    }
   ],
   "source": [
    "import os\n",
    "\n",
    "\n",
    "print(\"Current Directory:\", os.getcwd())"
   ]
  },
  {
   "cell_type": "code",
   "execution_count": null,
   "id": "b76c1753-fbf3-454c-b0d8-8fb78d2d75d2",
   "metadata": {},
   "outputs": [],
   "source": []
  },
  {
   "cell_type": "code",
   "execution_count": 13,
   "id": "5b5065d7-e974-49fb-bbc6-d9b487941971",
   "metadata": {},
   "outputs": [
    {
     "name": "stdout",
     "output_type": "stream",
     "text": [
      "Requirement already satisfied: pyspark in c:\\users\\sweta\\anaconda3\\lib\\site-packages (3.5.4)\n",
      "Requirement already satisfied: py4j==0.10.9.7 in c:\\users\\sweta\\anaconda3\\lib\\site-packages (from pyspark) (0.10.9.7)\n",
      "Note: you may need to restart the kernel to use updated packages.\n"
     ]
    }
   ],
   "source": [
    "pip install pyspark"
   ]
  },
  {
   "cell_type": "code",
   "execution_count": 14,
   "id": "6284fbd9-7ed6-4650-a4f1-ddaa5f964f89",
   "metadata": {},
   "outputs": [],
   "source": [
    "from pyspark.sql import SparkSession"
   ]
  },
  {
   "cell_type": "code",
   "execution_count": 15,
   "id": "59fa1da4-c11d-421d-8b03-c54d6181a2ed",
   "metadata": {},
   "outputs": [],
   "source": [
    "spark = SparkSession.builder.appName(\"NYC_Taxi_Fare\").getOrCreate()\n"
   ]
  },
  {
   "cell_type": "code",
   "execution_count": 16,
   "id": "555b1d2a-7b84-4fdf-8eec-fea6130ad1bb",
   "metadata": {},
   "outputs": [],
   "source": [
    "df = spark.read.csv(r'C:\\Users\\sweta\\Downloads\\Dataset\\yellow_tripdata_2015-01.csv\\yellow_tripdata_2015-01.csv', header=True, inferSchema=True)"
   ]
  },
  {
   "cell_type": "code",
   "execution_count": 17,
   "id": "cc6ea619-8091-4d00-8d17-72c32d292579",
   "metadata": {},
   "outputs": [
    {
     "name": "stdout",
     "output_type": "stream",
     "text": [
      "root\n",
      " |-- VendorID: integer (nullable = true)\n",
      " |-- tpep_pickup_datetime: timestamp (nullable = true)\n",
      " |-- tpep_dropoff_datetime: timestamp (nullable = true)\n",
      " |-- passenger_count: integer (nullable = true)\n",
      " |-- trip_distance: double (nullable = true)\n",
      " |-- pickup_longitude: double (nullable = true)\n",
      " |-- pickup_latitude: double (nullable = true)\n",
      " |-- RateCodeID: integer (nullable = true)\n",
      " |-- store_and_fwd_flag: string (nullable = true)\n",
      " |-- dropoff_longitude: double (nullable = true)\n",
      " |-- dropoff_latitude: double (nullable = true)\n",
      " |-- payment_type: integer (nullable = true)\n",
      " |-- fare_amount: double (nullable = true)\n",
      " |-- extra: double (nullable = true)\n",
      " |-- mta_tax: double (nullable = true)\n",
      " |-- tip_amount: double (nullable = true)\n",
      " |-- tolls_amount: double (nullable = true)\n",
      " |-- improvement_surcharge: double (nullable = true)\n",
      " |-- total_amount: double (nullable = true)\n",
      "\n"
     ]
    }
   ],
   "source": [
    "df.printSchema()\n"
   ]
  },
  {
   "cell_type": "code",
   "execution_count": 18,
   "id": "7a4042a9-6024-49a2-9444-cb32d59c3908",
   "metadata": {},
   "outputs": [
    {
     "name": "stdout",
     "output_type": "stream",
     "text": [
      "+-------+------------------+\n",
      "|summary|       fare_amount|\n",
      "+-------+------------------+\n",
      "|  count|          12748986|\n",
      "|   mean|11.905659425776989|\n",
      "| stddev|10.302537135952232|\n",
      "|    min|            -450.0|\n",
      "|    max|            4008.0|\n",
      "+-------+------------------+\n",
      "\n"
     ]
    }
   ],
   "source": [
    "df.select(\"fare_amount\").describe().show()\n"
   ]
  },
  {
   "cell_type": "code",
   "execution_count": 19,
   "id": "c7be2587-60cb-4a96-9b10-841591e42016",
   "metadata": {},
   "outputs": [
    {
     "name": "stdout",
     "output_type": "stream",
     "text": [
      "+--------+--------------------+---------------------+---------------+-------------+------------------+------------------+----------+------------------+------------------+------------------+------------+-----------+-----+-------+----------+------------+---------------------+------------+\n",
      "|VendorID|tpep_pickup_datetime|tpep_dropoff_datetime|passenger_count|trip_distance|  pickup_longitude|   pickup_latitude|RateCodeID|store_and_fwd_flag| dropoff_longitude|  dropoff_latitude|payment_type|fare_amount|extra|mta_tax|tip_amount|tolls_amount|improvement_surcharge|total_amount|\n",
      "+--------+--------------------+---------------------+---------------+-------------+------------------+------------------+----------+------------------+------------------+------------------+------------+-----------+-----+-------+----------+------------+---------------------+------------+\n",
      "|       1| 2015-01-10 20:33:39|  2015-01-10 21:11:35|              3|         18.2|-73.78304290771484| 40.64435577392578|         2|                 N|-73.98759460449219| 40.75935745239258|           2|       52.0|  0.0|    0.5|       0.0|        5.33|                  0.3|       58.13|\n",
      "|       2| 2015-01-15 19:05:42|  2015-01-15 19:49:07|              1|        18.06|-73.78657531738281|40.644126892089844|         2|                 N|-73.98560333251953|  40.7435302734375|           1|       52.0|  0.0|    0.5|       6.0|        5.33|                  0.3|       64.13|\n",
      "|       2| 2015-01-15 19:05:43|  2015-01-15 19:05:44|              2|         0.01|               0.0|               0.0|         5|                 N|               0.0|               0.0|           1|       60.0|  0.0|    0.0|       0.0|         0.0|                  0.3|        60.3|\n",
      "|       1| 2015-01-10 19:12:21|  2015-01-10 19:46:08|              1|         16.4|-73.97709655761719|  40.7631721496582|         2|                 N|-73.79071044921875|  40.6442756652832|           1|       52.0|  0.0|    0.5|      10.0|         0.0|                  0.3|        62.8|\n",
      "|       2| 2015-01-15 14:00:43|  2015-01-15 14:58:40|              1|         15.2|-73.80126190185547|40.667728424072266|         2|                 N|-73.99335479736328| 40.75600051879883|           1|       52.0|  0.0|    0.5|     14.33|        5.33|                  0.3|       72.46|\n",
      "|       1| 2015-01-26 12:41:21|  2015-01-26 13:03:26|              2|         16.3| -73.9983901977539|40.761680603027344|         3|                 N|-74.17723846435547| 40.69504165649414|           1|       60.5|  0.0|    0.0|      15.3|       15.75|                  0.3|       91.85|\n",
      "|       1| 2015-01-15 10:26:16|  2015-01-15 10:26:42|              2|          0.0|-73.98765563964844| 40.74364471435547|         5|                 N|-73.98748779296875| 40.74348449707031|           1|       60.0|  0.0|    0.0|      15.0|         0.0|                  0.3|        75.3|\n",
      "|       1| 2015-01-20 23:08:16|  2015-01-20 23:35:12|              1|         20.1|-73.78956604003906| 40.64350509643555|         1|                 N|-74.02220153808594| 40.61720275878906|           2|       54.0|  0.5|    0.5|       0.0|         0.0|                  0.3|        55.3|\n",
      "|       2| 2015-01-06 10:02:20|  2015-01-06 10:47:51|              1|         19.7|-74.01023864746094|40.710723876953125|         1|                 N|-73.82711791992188| 40.87989807128906|           2|       56.0|  0.0|    0.5|       0.0|         0.0|                  0.3|        56.8|\n",
      "|       2| 2015-01-01 05:29:50|  2015-01-01 05:54:13|              1|        17.46|-73.98296356201172|40.757415771484375|         3|                 N|-74.17719268798828|  40.6950569152832|           1|       64.0|  0.5|    0.0|       1.0|        16.0|                  0.3|        81.8|\n",
      "|       1| 2015-01-28 10:50:01|  2015-01-28 11:28:06|              3|         17.5|-73.78255462646484|  40.6445198059082|         2|                 N|-73.98393249511719|  40.7551155090332|           2|       52.0|  0.0|    0.5|       0.0|        5.33|                  0.3|       58.13|\n",
      "|       1| 2015-01-04 13:44:55|  2015-01-04 14:16:21|              1|         18.1|-73.99667358398438|40.732364654541016|         2|                 N|-73.78376770019531| 40.64366149902344|           1|       52.0|  0.0|    0.5|     13.12|         0.0|                  0.0|       65.92|\n",
      "|       2| 2015-01-13 00:09:33|  2015-01-13 00:31:09|              2|        16.76|-73.79154968261719|  40.6454963684082|         2|                 N| -73.9756851196289|   40.752197265625|           1|       52.0|  0.0|    0.5|     11.47|        5.33|                  0.3|        69.6|\n",
      "|       2| 2015-01-13 00:09:39|  2015-01-13 01:03:11|              1|        28.66|-73.99616241455078|40.725425720214844|         4|                 N|-73.80000305175781|40.964561462402344|           2|       83.5|  0.5|    0.5|       0.0|        2.44|                  0.3|       87.24|\n",
      "|       2| 2015-01-02 19:09:23|  2015-01-02 19:16:34|              1|         1.29|-73.99647521972656| 40.71571350097656|         5|                 N|-74.00939178466797| 40.70545196533203|           1|       58.0|  0.0|    0.5|      11.6|         0.0|                  0.3|        70.4|\n",
      "|       2| 2015-01-25 17:45:15|  2015-01-25 17:45:21|              1|          0.0|-73.97565460205078| 40.76131820678711|         2|                 N|               0.0|               0.0|           1|       52.0|  0.0|    0.5|      20.0|         0.0|                  0.3|        72.8|\n",
      "|       2| 2015-01-23 09:45:36|  2015-01-23 10:20:37|              1|        18.06|-73.97798156738281| 40.76349639892578|         3|                 N|-74.17701721191406|40.694862365722656|           1|       68.0|  0.0|    0.0|     16.44|        13.9|                  0.3|       98.64|\n",
      "|       2| 2015-01-03 08:58:45|  2015-01-03 09:29:18|              1|        18.41| -73.7894287109375| 40.64365005493164|         2|                 N|   -73.98486328125|40.760860443115234|           2|       52.0|  0.0|    0.5|       0.0|        5.33|                  0.3|       58.13|\n",
      "|       1| 2015-01-17 23:39:51|  2015-01-18 00:41:03|              1|         19.9|-73.78266143798828| 40.64444351196289|         2|                 N|-74.00721740722656|40.706642150878906|           1|       52.0|  0.0|    0.5|     10.56|         0.0|                  0.3|       63.36|\n",
      "|       1| 2015-01-21 00:53:08|  2015-01-21 01:27:26|              2|         18.4|-74.00980377197266| 40.70989990234375|         1|                 N|-73.85294342041016|  40.7896614074707|           1|       51.0|  0.5|    0.5|       9.5|        5.33|                  0.3|       67.13|\n",
      "+--------+--------------------+---------------------+---------------+-------------+------------------+------------------+----------+------------------+------------------+------------------+------------+-----------+-----+-------+----------+------------+---------------------+------------+\n",
      "only showing top 20 rows\n",
      "\n"
     ]
    }
   ],
   "source": [
    "df_filtered = df.filter(df.fare_amount > 50)\n",
    "df_filtered.show()\n"
   ]
  },
  {
   "cell_type": "code",
   "execution_count": 20,
   "id": "fc7b5eb0-abea-407c-95e9-097a5484e389",
   "metadata": {},
   "outputs": [],
   "source": [
    "# df_filtered.write.csv('nyc_taxi_fare_filtered.csv', header=True,mode='overwrite')\n",
    "df_filtered.write.csv('nyc_taxi_fare_filtered.csv', header=True, mode='overwrite')"
   ]
  },
  {
   "cell_type": "code",
   "execution_count": 21,
   "id": "fc630b14-b703-4cf3-9575-524e53912e09",
   "metadata": {},
   "outputs": [],
   "source": [
    "df_filtered.write.csv('C:\\\\Users\\\\sweta\\\\Downloads\\\\Dataset\\\\nyc_taxi_fare_filtered.csv', header=True, mode='overwrite')\n"
   ]
  },
  {
   "cell_type": "code",
   "execution_count": 22,
   "id": "84bf125c-36b4-4cab-93ec-8daf6212a723",
   "metadata": {},
   "outputs": [
    {
     "ename": "SyntaxError",
     "evalue": "invalid syntax (2664340596.py, line 1)",
     "output_type": "error",
     "traceback": [
      "\u001b[1;36m  Cell \u001b[1;32mIn[22], line 1\u001b[1;36m\u001b[0m\n\u001b[1;33m    CREATE TABLE nyc_taxi_fare (\u001b[0m\n\u001b[1;37m           ^\u001b[0m\n\u001b[1;31mSyntaxError\u001b[0m\u001b[1;31m:\u001b[0m invalid syntax\n"
     ]
    }
   ],
   "source": [
    "# CREATE TABLE nyc_taxi_fare (\n",
    "#     vendor_id INT,\n",
    "#     pickup_datetime TIMESTAMP,\n",
    "#     dropoff_datetime TIMESTAMP,\n",
    "#     passenger_count INT,\n",
    "#     trip_distance FLOAT,\n",
    "#     fare_amount FLOAT\n",
    "# );"
   ]
  },
  {
   "cell_type": "code",
   "execution_count": 23,
   "id": "01aca638-a73a-46e7-8e34-4de8c9332159",
   "metadata": {},
   "outputs": [
    {
     "name": "stdout",
     "output_type": "stream",
     "text": [
      "3.5.4\n"
     ]
    }
   ],
   "source": [
    "import pyspark\n",
    "print(pyspark.__version__)"
   ]
  },
  {
   "cell_type": "code",
   "execution_count": 29,
   "id": "b8e7e632-a31b-4411-accf-83f4f65b18b4",
   "metadata": {},
   "outputs": [],
   "source": [
    "import mysql.connector\n",
    "\n",
    "\n",
    "conn = mysql.connector.connect(\n",
    "    host=\"127.0.0.1\",\n",
    "    user=\"root\",\n",
    "    password=\"Saislata@2024\",\n",
    "    database=\"dissertation_project\"\n",
    ")\n",
    "cursor = conn.cursor()\n",
    "\n",
    "\n",
    "create_table_query = \"\"\"\n",
    "CREATE TABLE nyc_taxi_fare (\n",
    "    id INT AUTO_INCREMENT PRIMARY KEY,\n",
    "    pickup_datetime DATETIME,\n",
    "    dropoff_datetime DATETIME,\n",
    "    passenger_count INT,\n",
    "    pickup_longitude FLOAT,\n",
    "    pickup_latitude FLOAT,\n",
    "    dropoff_longitude FLOAT,\n",
    "    dropoff_latitude FLOAT,\n",
    "    fare_amount FLOAT\n",
    ");\n",
    "\"\"\"\n",
    "\n",
    "cursor.execute(create_table_query)\n",
    "conn.commit()\n",
    "conn.close()\n"
   ]
  },
  {
   "cell_type": "code",
   "execution_count": 25,
   "id": "3bed185c-c366-4024-afa0-dbd58b8d2d25",
   "metadata": {},
   "outputs": [
    {
     "name": "stdout",
     "output_type": "stream",
     "text": [
      "Collecting mysql-connector-pythonNote: you may need to restart the kernel to use updated packages.\n",
      "\n",
      "  Downloading mysql_connector_python-9.2.0-cp310-cp310-win_amd64.whl.metadata (6.2 kB)\n",
      "Downloading mysql_connector_python-9.2.0-cp310-cp310-win_amd64.whl (16.1 MB)\n",
      "   ---------------------------------------- 0.0/16.1 MB ? eta -:--:--\n",
      "   ----------- ---------------------------- 4.5/16.1 MB 22.4 MB/s eta 0:00:01\n",
      "   ----------------- ---------------------- 7.1/16.1 MB 18.2 MB/s eta 0:00:01\n",
      "   ------------------- -------------------- 7.9/16.1 MB 13.9 MB/s eta 0:00:01\n",
      "   -------------------- ------------------- 8.1/16.1 MB 10.5 MB/s eta 0:00:01\n",
      "   -------------------- ------------------- 8.4/16.1 MB 8.3 MB/s eta 0:00:01\n",
      "   ---------------------- ----------------- 8.9/16.1 MB 7.0 MB/s eta 0:00:02\n",
      "   ----------------------- ---------------- 9.4/16.1 MB 6.4 MB/s eta 0:00:02\n",
      "   ------------------------- -------------- 10.2/16.1 MB 6.0 MB/s eta 0:00:01\n",
      "   ---------------------------- ----------- 11.5/16.1 MB 5.9 MB/s eta 0:00:01\n",
      "   ------------------------------- -------- 12.8/16.1 MB 5.9 MB/s eta 0:00:01\n",
      "   ----------------------------------- ---- 14.4/16.1 MB 6.1 MB/s eta 0:00:01\n",
      "   ---------------------------------------  16.0/16.1 MB 6.4 MB/s eta 0:00:01\n",
      "   ---------------------------------------- 16.1/16.1 MB 5.9 MB/s eta 0:00:00\n",
      "Installing collected packages: mysql-connector-python\n",
      "Successfully installed mysql-connector-python-9.2.0\n"
     ]
    }
   ],
   "source": [
    "pip install mysql-connector-python\n"
   ]
  },
  {
   "cell_type": "code",
   "execution_count": 26,
   "id": "b2002217-ff93-427f-9afb-2b3f8e1c4f2e",
   "metadata": {},
   "outputs": [
    {
     "name": "stdout",
     "output_type": "stream",
     "text": [
      "MySQL Connector imported successfully!\n"
     ]
    }
   ],
   "source": [
    "import mysql.connector\n",
    "print(\"MySQL Connector imported successfully!\")\n"
   ]
  },
  {
   "cell_type": "code",
   "execution_count": null,
   "id": "ceff1635-486e-4ad9-a6ce-1c11a9ba0eea",
   "metadata": {},
   "outputs": [],
   "source": []
  }
 ],
 "metadata": {
  "kernelspec": {
   "display_name": "Python 3 (ipykernel)",
   "language": "python",
   "name": "python3"
  },
  "language_info": {
   "codemirror_mode": {
    "name": "ipython",
    "version": 3
   },
   "file_extension": ".py",
   "mimetype": "text/x-python",
   "name": "python",
   "nbconvert_exporter": "python",
   "pygments_lexer": "ipython3",
   "version": "3.10.16"
  }
 },
 "nbformat": 4,
 "nbformat_minor": 5
}
